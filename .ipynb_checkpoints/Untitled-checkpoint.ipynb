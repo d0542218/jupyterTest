{
 "cells": [
  {
   "cell_type": "code",
   "execution_count": 1,
   "id": "9a08d101",
   "metadata": {
    "id": "b629f682"
   },
   "outputs": [],
   "source": [
    "import pandas as pd\n",
    "import numpy as np"
   ]
  },
  {
   "cell_type": "code",
   "execution_count": 2,
   "id": "cab7af62",
   "metadata": {
    "id": "226adfac"
   },
   "outputs": [],
   "source": [
    "df = pd.read_csv('data_0.csv')\n"
   ]
  },
  {
   "cell_type": "code",
   "execution_count": 4,
   "id": "a7695c8c",
   "metadata": {
    "id": "e300b610"
   },
   "outputs": [],
   "source": [
    "ageList = df['age']\n",
    "genderList = df['gender_code']\n",
    "slamList = df['slam']\n",
    "ageIndex=[]\n",
    "genderIndex=[]\n",
    "slamIndex=[]\n",
    "for  idx, item in enumerate(ageList):\n",
    "    if(np.isnan(item)):\n",
    "        ageIndex.append(df.iloc[idx])\n",
    "for  idx, item in enumerate(genderList):\n",
    "    if(np.isnan(item)):\n",
    "        genderIndex.append(df.iloc[idx])\n",
    "for  idx, item in enumerate(slamList):\n",
    "    if(np.isnan(item)):\n",
    "        slamIndex.append(df.iloc[idx])"
   ]
  },
  {
   "cell_type": "code",
   "execution_count": 5,
   "id": "3059575b",
   "metadata": {
    "id": "535068ce",
    "outputId": "66708183-f6e6-4dda-c00b-7ccd7ac6c907"
   },
   "outputs": [],
   "source": [
    "confirmed = []\n",
    "list_of_value  = list(df['chid'])\n",
    "for i in ageIndex:\n",
    "    tempID = df.loc[df['chid']==i['chid']]\n",
    "    for j in tempID:\n",
    "        \n",
    "        confirmed.append(j)\n",
    "        if(j=='age'):\n",
    "            for item in tempID[j]:\n",
    "                if(not np.isnan(item)):\n",
    "                    print(item)"
   ]
  },
  {
   "cell_type": "code",
   "execution_count": null,
   "id": "0ae3044f",
   "metadata": {},
   "outputs": [],
   "source": []
  }
 ],
 "metadata": {
  "colab": {
   "name": "Untitled.ipynb",
   "provenance": []
  },
  "kernelspec": {
   "display_name": "Python 3",
   "language": "python",
   "name": "python3"
  },
  "language_info": {
   "codemirror_mode": {
    "name": "ipython",
    "version": 3
   },
   "file_extension": ".py",
   "mimetype": "text/x-python",
   "name": "python",
   "nbconvert_exporter": "python",
   "pygments_lexer": "ipython3",
   "version": "3.8.8"
  }
 },
 "nbformat": 4,
 "nbformat_minor": 5
}
