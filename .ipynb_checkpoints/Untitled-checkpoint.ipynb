{
 "cells": [
  {
   "cell_type": "code",
   "execution_count": 1,
   "id": "9a08d101",
   "metadata": {
    "id": "b629f682"
   },
   "outputs": [],
   "source": [
    "import pandas as pd\n",
    "import numpy as np"
   ]
  },
  {
   "cell_type": "code",
   "execution_count": 2,
   "id": "cab7af62",
   "metadata": {
    "id": "226adfac"
   },
   "outputs": [],
   "source": [
    "df = pd.read_csv('data_0.csv')\n"
   ]
  },
  {
   "cell_type": "code",
   "execution_count": 3,
   "id": "a7695c8c",
   "metadata": {
    "id": "e300b610"
   },
   "outputs": [],
   "source": [
    "temp = df['gender_code']\n",
    "firstIndex=[]\n",
    "for  idx, item in enumerate(temp):\n",
    "    if(np.isnan(item)):\n",
    "        firstIndex.append(df.iloc[idx])"
   ]
  },
  {
   "cell_type": "code",
   "execution_count": 4,
   "id": "3059575b",
   "metadata": {
    "id": "535068ce",
    "outputId": "66708183-f6e6-4dda-c00b-7ccd7ac6c907"
   },
   "outputs": [
    {
     "ename": "SyntaxError",
     "evalue": "invalid syntax (Temp/ipykernel_17720/482663719.py, line 6)",
     "output_type": "error",
     "traceback": [
      "\u001b[1;36m  File \u001b[1;32m\"C:\\Users\\USER\\AppData\\Local\\Temp/ipykernel_17720/482663719.py\"\u001b[1;36m, line \u001b[1;32m6\u001b[0m\n\u001b[1;33m    for j in tempID:\u001b[0m\n\u001b[1;37m      ^\u001b[0m\n\u001b[1;31mSyntaxError\u001b[0m\u001b[1;31m:\u001b[0m invalid syntax\n"
     ]
    }
   ],
   "source": [
    "second=[]\n",
    "list_of_value  = list(df['chid'])\n",
    "print(df.loc[df['chid']==firstIndex[0]['chid']])\n",
    "for i in firstIndex:\n",
    "    tempID = df.loc[df['chid']==i['chid']\n",
    "    for j in tempID:\n",
    "        print(idItem)\n",
    "    #if(not np.isnan(df.iloc[int(list_of_value.index(i['chid']))]['gender_code'])):\n",
    "        #print(df.iloc[list_of_value.index(i['chid'])]['gender_code'])\n",
    "        #second.append(df.iloc[list_of_value.index(i['chid'])])\n",
    "#second"
   ]
  },
  {
   "cell_type": "code",
   "execution_count": null,
   "id": "cba1ee02",
   "metadata": {
    "id": "91b53eb3"
   },
   "outputs": [],
   "source": []
  }
 ],
 "metadata": {
  "colab": {
   "name": "Untitled.ipynb",
   "provenance": []
  },
  "kernelspec": {
   "display_name": "Python 3 (ipykernel)",
   "language": "python",
   "name": "python3"
  },
  "language_info": {
   "codemirror_mode": {
    "name": "ipython",
    "version": 3
   },
   "file_extension": ".py",
   "mimetype": "text/x-python",
   "name": "python",
   "nbconvert_exporter": "python",
   "pygments_lexer": "ipython3",
   "version": "3.7.1"
  }
 },
 "nbformat": 4,
 "nbformat_minor": 5
}
