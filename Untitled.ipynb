{
 "cells": [
  {
   "cell_type": "code",
   "execution_count": 1,
   "id": "9a08d101",
   "metadata": {
    "id": "b629f682"
   },
   "outputs": [],
   "source": [
    "import pandas as pd\n",
    "import numpy as np"
   ]
  },
  {
   "cell_type": "code",
   "execution_count": 2,
   "id": "cab7af62",
   "metadata": {
    "id": "226adfac"
   },
   "outputs": [],
   "source": [
    "df = pd.read_csv('data_0.csv')"
   ]
  },
  {
   "cell_type": "code",
   "execution_count": 3,
   "id": "a7695c8c",
   "metadata": {
    "id": "e300b610"
   },
   "outputs": [],
   "source": [
    "ageList = df['age']\n",
    "genderList = df['gender_code']\n",
    "slamList = df['slam']\n",
    "ageIndex=[]\n",
    "genderIndex=[]\n",
    "slamIndex=[]\n",
    "for  idx, item in enumerate(ageList):\n",
    "    if(np.isnan(item)):\n",
    "        ageIndex.append(df.iloc[idx])\n",
    "for  idx, item in enumerate(genderList):\n",
    "    if(np.isnan(item)):\n",
    "        genderIndex.append(df.iloc[idx])\n",
    "for  idx, item in enumerate(slamList):\n",
    "    if(np.isnan(item)):\n",
    "        slamIndex.append(df.iloc[idx])"
   ]
  },
  {
   "cell_type": "code",
   "execution_count": 14,
   "id": "3059575b",
   "metadata": {
    "id": "535068ce",
    "outputId": "66708183-f6e6-4dda-c00b-7ccd7ac6c907"
   },
   "outputs": [
    {
     "ename": "AttributeError",
     "evalue": "'numpy.int64' object has no attribute 'index'",
     "output_type": "error",
     "traceback": [
      "\u001b[1;31m---------------------------------------------------------------------------\u001b[0m",
      "\u001b[1;31mAttributeError\u001b[0m                            Traceback (most recent call last)",
      "\u001b[1;32m~\\AppData\\Local\\Temp/ipykernel_13828/3887305486.py\u001b[0m in \u001b[0;36m<module>\u001b[1;34m\u001b[0m\n\u001b[0;32m      3\u001b[0m \u001b[1;32mfor\u001b[0m \u001b[0mi\u001b[0m \u001b[1;32min\u001b[0m \u001b[0mageIndex\u001b[0m\u001b[1;33m:\u001b[0m\u001b[1;33m\u001b[0m\u001b[1;33m\u001b[0m\u001b[0m\n\u001b[0;32m      4\u001b[0m     \u001b[0mtempID\u001b[0m \u001b[1;33m=\u001b[0m \u001b[0mdf\u001b[0m\u001b[1;33m.\u001b[0m\u001b[0mloc\u001b[0m\u001b[1;33m[\u001b[0m\u001b[0mdf\u001b[0m\u001b[1;33m[\u001b[0m\u001b[1;34m'chid'\u001b[0m\u001b[1;33m]\u001b[0m\u001b[1;33m==\u001b[0m\u001b[0mi\u001b[0m\u001b[1;33m[\u001b[0m\u001b[1;34m'chid'\u001b[0m\u001b[1;33m]\u001b[0m\u001b[1;33m]\u001b[0m\u001b[1;33m\u001b[0m\u001b[1;33m\u001b[0m\u001b[0m\n\u001b[1;32m----> 5\u001b[1;33m     \u001b[0mprint\u001b[0m\u001b[1;33m(\u001b[0m\u001b[0mi\u001b[0m\u001b[1;33m[\u001b[0m\u001b[1;34m'chid'\u001b[0m\u001b[1;33m]\u001b[0m\u001b[1;33m.\u001b[0m\u001b[0mindex\u001b[0m\u001b[1;33m)\u001b[0m\u001b[1;33m\u001b[0m\u001b[1;33m\u001b[0m\u001b[0m\n\u001b[0m\u001b[0;32m      6\u001b[0m     \u001b[1;32mif\u001b[0m\u001b[1;33m(\u001b[0m\u001b[0mtempID\u001b[0m\u001b[1;33m[\u001b[0m\u001b[1;34m'chid'\u001b[0m\u001b[1;33m]\u001b[0m \u001b[1;32mnot\u001b[0m \u001b[1;32min\u001b[0m \u001b[0mconfirmed\u001b[0m\u001b[1;33m)\u001b[0m\u001b[1;33m:\u001b[0m\u001b[1;33m\u001b[0m\u001b[1;33m\u001b[0m\u001b[0m\n\u001b[0;32m      7\u001b[0m \u001b[1;33m\u001b[0m\u001b[0m\n",
      "\u001b[1;31mAttributeError\u001b[0m: 'numpy.int64' object has no attribute 'index'"
     ]
    }
   ],
   "source": [
    "confirmed = []\n",
    "list_of_value  = list(df['chid'])\n",
    "for i in ageIndex:\n",
    "    tempID = df.loc[df['chid']==i['chid']]\n",
    "    tempindex = df.index[df['chid']==i['chid']]\n",
    "    print(i['chid'].index)\n",
    "    if(tempID['chid'] not in confirmed):\n",
    "        \n",
    "        confirmed.append(tempID['chid'])\n",
    "        for item in tempID['age']:\n",
    "            if(not np.isnan(item)):\n",
    "                print(item)"
   ]
  },
  {
   "cell_type": "code",
   "execution_count": null,
   "id": "0ae3044f",
   "metadata": {},
   "outputs": [],
   "source": []
  }
 ],
 "metadata": {
  "colab": {
   "name": "Untitled.ipynb",
   "provenance": []
  },
  "kernelspec": {
   "display_name": "Python 3 (ipykernel)",
   "language": "python",
   "name": "python3"
  },
  "language_info": {
   "codemirror_mode": {
    "name": "ipython",
    "version": 3
   },
   "file_extension": ".py",
   "mimetype": "text/x-python",
   "name": "python",
   "nbconvert_exporter": "python",
   "pygments_lexer": "ipython3",
   "version": "3.7.1"
  }
 },
 "nbformat": 4,
 "nbformat_minor": 5
}
